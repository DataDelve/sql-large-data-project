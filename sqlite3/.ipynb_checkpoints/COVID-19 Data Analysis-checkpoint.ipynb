{
 "cells": [
  {
   "cell_type": "markdown",
   "id": "bcb941b5",
   "metadata": {},
   "source": [
    "<h2>COVID-19 Data Analysis</h2>"
   ]
  },
  {
   "cell_type": "code",
   "execution_count": 1,
   "id": "32213244",
   "metadata": {},
   "outputs": [],
   "source": [
    "import sqlite3\n",
    "import numpy as np\n",
    "import pandas as pd"
   ]
  },
  {
   "cell_type": "markdown",
   "id": "04b903cd",
   "metadata": {},
   "source": [
    "<p>Data file is in CSV format.</p>\n",
    "<p>File size is 9.21 GB.</p>\n",
    "<p>Since this file is too large, below, I count the number of lines and split the file into multiple files.</p>"
   ]
  },
  {
   "cell_type": "code",
   "execution_count": 2,
   "id": "82f2f114",
   "metadata": {},
   "outputs": [],
   "source": [
    "f = open(\"COVID-19_Case_Surveillance_Public_Use_Data_with_Geography.csv\", \"r\")"
   ]
  },
  {
   "cell_type": "code",
   "execution_count": 3,
   "id": "407b4073",
   "metadata": {},
   "outputs": [],
   "source": [
    "for count, line in enumerate(f):\n",
    "    pass"
   ]
  },
  {
   "cell_type": "code",
   "execution_count": 4,
   "id": "bdaecb95",
   "metadata": {},
   "outputs": [
    {
     "name": "stdout",
     "output_type": "stream",
     "text": [
      "71387132\n"
     ]
    }
   ],
   "source": [
    "print(count)"
   ]
  },
  {
   "cell_type": "code",
   "execution_count": 5,
   "id": "3d71638d",
   "metadata": {},
   "outputs": [],
   "source": [
    "chunk_size = 20000000"
   ]
  },
  {
   "cell_type": "code",
   "execution_count": 6,
   "id": "689f434a",
   "metadata": {},
   "outputs": [],
   "source": [
    "def write_chunk(part, lines):\n",
    "    with open(\"data_part_\" + str(part) + \".csv\", \"w\") as f_out:\n",
    "        f_out.write(header)\n",
    "        f_out.writelines(lines)"
   ]
  },
  {
   "cell_type": "code",
   "execution_count": 7,
   "id": "039b9fc6",
   "metadata": {},
   "outputs": [],
   "source": [
    "with open(\"COVID-19_Case_Surveillance_Public_Use_Data_with_Geography.csv\", \"r\") as f:\n",
    "    count = 0\n",
    "    header = f.readline()\n",
    "    lines = []\n",
    "    for line in f:\n",
    "        count += 1\n",
    "        lines.append(line)\n",
    "        if count % chunk_size == 0:\n",
    "            write_chunk(count // chunk_size, lines)\n",
    "            lines = []\n",
    "    # write remainder\n",
    "    if len(lines) > 0:\n",
    "        write_chunk((count // chunk_size) + 1, lines)"
   ]
  },
  {
   "cell_type": "code",
   "execution_count": 8,
   "id": "bb9d27f0",
   "metadata": {},
   "outputs": [],
   "source": [
    "f.close()"
   ]
  },
  {
   "cell_type": "markdown",
   "id": "a4388087",
   "metadata": {},
   "source": [
    "<h3>Using SQL to store large dataset</h3>\n",
    "<ul>\n",
    "    <li>Read in each CSV data-part into a DataFrame</li>\n",
    "    <li>Then, export each part to an SQL database</li>\n",
    "</ul>"
   ]
  },
  {
   "cell_type": "code",
   "execution_count": 9,
   "id": "f91872a0",
   "metadata": {},
   "outputs": [],
   "source": [
    "# Create SQL Engine, Connection, and Cursor\n",
    "# If .db file does not exist, it will be created during connection\n",
    "connection = sqlite3.connect('covid_large_dataset.db')\n",
    "cursor = connection.cursor()"
   ]
  },
  {
   "cell_type": "code",
   "execution_count": 10,
   "id": "86bf57d2",
   "metadata": {},
   "outputs": [],
   "source": [
    "# Create table in database, if it does not exist\n",
    "command1 = \"\"\"CREATE TABLE IF NOT EXISTS covid_data(id INTEGER PRIMARY KEY, case_month TEXT, res_state TEXT, \n",
    "            state_fips_code TEXT, res_county TEXT, county_fips_code TEXT, age_group TEXT, sex TEXT, race TEXT, \n",
    "            ethnicity TEXT, case_positive_specimen_interval INTEGER, case_onset_interval INTEGER, process TEXT, \n",
    "            exposure_yn TEXT, current_status TEXT, symptom_status TEXT, hosp_yn TEXT, icu_yn TEXT, death_yn TEXT, \n",
    "            underlying_conditions_yn TEXT)\"\"\"\n",
    "cursor.execute(command1)\n",
    "connection.commit()"
   ]
  },
  {
   "cell_type": "code",
   "execution_count": 11,
   "id": "2ef95b29",
   "metadata": {},
   "outputs": [],
   "source": [
    "# Read in first CSV part and export to SQL table in database\n",
    "df = pd.read_csv(\"data_part_1.csv\", low_memory=False)\n",
    "df.to_sql('covid_data', connection, if_exists='append', index_label='id')\n",
    "connection.commit()"
   ]
  },
  {
   "cell_type": "code",
   "execution_count": 12,
   "id": "8efa4c84",
   "metadata": {},
   "outputs": [],
   "source": [
    "# Read in second CSV part and export to SQL table in database\n",
    "df = pd.read_csv(\"data_part_2.csv\", low_memory=False)\n",
    "\n",
    "# The first CSV part had an index (id) of range 0 to 19,999,999\n",
    "# Therefore, we must reindex this part to the next range, 20,000,000 to 39,999,999\n",
    "# Otherwise, we would get a unique index error when we try to export to SQL table\n",
    "df.index = range(20000000, 40000000)\n",
    "\n",
    "# Export data to SQL table in database\n",
    "df.to_sql('covid_data', connection, if_exists='append', index_label='id')\n",
    "connection.commit()"
   ]
  },
  {
   "cell_type": "code",
   "execution_count": 13,
   "id": "66b26485",
   "metadata": {},
   "outputs": [],
   "source": [
    "# Read in third CSV part, reindex to range starting with 40,000,000, \n",
    "# and export data to SQL table in database\n",
    "df = pd.read_csv(\"data_part_3.csv\", low_memory=False)\n",
    "df.index = range(40000000, 60000000)\n",
    "df.to_sql('covid_data', connection, if_exists='append', index_label='id')\n",
    "connection.commit()"
   ]
  },
  {
   "cell_type": "code",
   "execution_count": 14,
   "id": "c6eaa675",
   "metadata": {},
   "outputs": [
    {
     "name": "stdout",
     "output_type": "stream",
     "text": [
      "<class 'pandas.core.frame.DataFrame'>\n",
      "RangeIndex: 11387132 entries, 0 to 11387131\n",
      "Data columns (total 19 columns):\n",
      " #   Column                           Dtype  \n",
      "---  ------                           -----  \n",
      " 0   case_month                       object \n",
      " 1   res_state                        object \n",
      " 2   state_fips_code                  int64  \n",
      " 3   res_county                       object \n",
      " 4   county_fips_code                 float64\n",
      " 5   age_group                        object \n",
      " 6   sex                              object \n",
      " 7   race                             object \n",
      " 8   ethnicity                        object \n",
      " 9   case_positive_specimen_interval  float64\n",
      " 10  case_onset_interval              float64\n",
      " 11  process                          object \n",
      " 12  exposure_yn                      object \n",
      " 13  current_status                   object \n",
      " 14  symptom_status                   object \n",
      " 15  hosp_yn                          object \n",
      " 16  icu_yn                           object \n",
      " 17  death_yn                         object \n",
      " 18  underlying_conditions_yn         object \n",
      "dtypes: float64(3), int64(1), object(15)\n",
      "memory usage: 1.6+ GB\n"
     ]
    }
   ],
   "source": [
    "# Read in fourth CSV part. Get info to check number of lines. \n",
    "df = pd.read_csv(\"data_part_4.csv\", low_memory=False)\n",
    "df.info()"
   ]
  },
  {
   "cell_type": "code",
   "execution_count": 15,
   "id": "a42fb45a",
   "metadata": {},
   "outputs": [],
   "source": [
    "# Then, reindex to range starting with 60,000,000, \n",
    "# and export data to SQL table in database\n",
    "df.index = range(60000000, (60000000+11387132))\n",
    "df.to_sql('covid_data', connection, if_exists='append', index_label='id')\n",
    "connection.commit()"
   ]
  },
  {
   "cell_type": "code",
   "execution_count": 16,
   "id": "8041807a",
   "metadata": {},
   "outputs": [],
   "source": [
    "# Close connection to database\n",
    "connection.close()"
   ]
  },
  {
   "cell_type": "markdown",
   "id": "ff63f612",
   "metadata": {},
   "source": [
    "<h3>Open SQL database and read in data to DataFrame for data analysis</h3>"
   ]
  },
  {
   "cell_type": "code",
   "execution_count": 3,
   "id": "33444e18",
   "metadata": {},
   "outputs": [],
   "source": [
    "# Create SQL Engine, Connection, and Cursor\n",
    "connection = sqlite3.connect('covid_large_dataset.db')\n",
    "cursor = connection.cursor()"
   ]
  },
  {
   "cell_type": "code",
   "execution_count": 18,
   "id": "91736c31",
   "metadata": {},
   "outputs": [],
   "source": [
    "# SQL command to read data from table in database\n",
    "command1 = \"\"\"SELECT id,\n",
    "                     case_month,\n",
    "                     res_state,\n",
    "                     age_group,\n",
    "                     sex,\n",
    "                     race,\n",
    "                     ethnicity,\n",
    "                     case_positive_specimen_interval,\n",
    "                     case_onset_interval,\n",
    "                     death_yn\n",
    "                FROM covid_data\n",
    "               WHERE death_yn = 'Yes';\"\"\"\n",
    "\n",
    "# Execute command and read into DataFrame\n",
    "df = pd.read_sql(sql=command1, con=connection, index_col=\"id\")"
   ]
  },
  {
   "cell_type": "code",
   "execution_count": 19,
   "id": "361135a2",
   "metadata": {},
   "outputs": [
    {
     "name": "stdout",
     "output_type": "stream",
     "text": [
      "<class 'pandas.core.frame.DataFrame'>\n",
      "Int64Index: 416870 entries, 678 to 71385121\n",
      "Data columns (total 9 columns):\n",
      " #   Column                           Non-Null Count   Dtype  \n",
      "---  ------                           --------------   -----  \n",
      " 0   case_month                       416870 non-null  object \n",
      " 1   res_state                        416870 non-null  object \n",
      " 2   age_group                        415933 non-null  object \n",
      " 3   sex                              415205 non-null  object \n",
      " 4   race                             396902 non-null  object \n",
      " 5   ethnicity                        396191 non-null  object \n",
      " 6   case_positive_specimen_interval  153374 non-null  float64\n",
      " 7   case_onset_interval              160721 non-null  float64\n",
      " 8   death_yn                         416870 non-null  object \n",
      "dtypes: float64(2), object(7)\n",
      "memory usage: 31.8+ MB\n"
     ]
    }
   ],
   "source": [
    "# Get DataFrame info\n",
    "df.info()"
   ]
  },
  {
   "cell_type": "code",
   "execution_count": 20,
   "id": "d475a814",
   "metadata": {},
   "outputs": [
    {
     "name": "stdout",
     "output_type": "stream",
     "text": [
      "res_state\n",
      "AK       81\n",
      "AL     5100\n",
      "AR     4105\n",
      "AZ    21502\n",
      "CA    62033\n",
      "CO     5022\n",
      "CT     4673\n",
      "DC      676\n",
      "FL    43165\n",
      "GA      836\n",
      "IA      907\n",
      "ID     1894\n",
      "IL    21804\n",
      "IN     5995\n",
      "KS     3804\n",
      "KY     4723\n",
      "LA     2472\n",
      "MA    14369\n",
      "MD     2821\n",
      "ME      409\n",
      "MI    12943\n",
      "MN     6452\n",
      "MO     7610\n",
      "MS     1145\n",
      "MT     1259\n",
      "NC     5012\n",
      "ND      989\n",
      "NH      779\n",
      "NJ    19647\n",
      "NM     2123\n",
      "NV     8938\n",
      "NY    40393\n",
      "OH    21943\n",
      "OK     3825\n",
      "OR     1324\n",
      "PA    22002\n",
      "PR     3493\n",
      "RI      594\n",
      "SC     4999\n",
      "TN     9049\n",
      "TX    19467\n",
      "UT     1292\n",
      "VA     5220\n",
      "VT       32\n",
      "WA     4460\n",
      "WI     5143\n",
      "WY      346\n",
      "dtype: int64\n"
     ]
    }
   ],
   "source": [
    "# Find how many covid deaths per state\n",
    "deaths_by_state = df.groupby([\"res_state\"]).size()\n",
    "print(deaths_by_state)"
   ]
  },
  {
   "cell_type": "code",
   "execution_count": 21,
   "id": "0a400490",
   "metadata": {},
   "outputs": [],
   "source": [
    "# Export DataFrame to csv file for use later.\n",
    "df.to_csv(\"covid-data-with-deaths.csv\")"
   ]
  },
  {
   "cell_type": "markdown",
   "id": "fbf6879a",
   "metadata": {},
   "source": [
    "<h2>Data Analysis using SQLite3</h2>\n",
    "<p>Count number of cases, per state, by month+year</p>"
   ]
  },
  {
   "cell_type": "code",
   "execution_count": 7,
   "id": "93968a27",
   "metadata": {},
   "outputs": [],
   "source": [
    "command1 =  \"\"\"\n",
    "            SELECT DISTINCT\n",
    "                case_month,\n",
    "                res_state,\n",
    "                count(res_state) AS state_total\n",
    "            FROM\n",
    "                covid_data\n",
    "            WHERE\n",
    "                case_month IS NOT NULL AND res_state IS NOT NULL\n",
    "            GROUP BY\n",
    "                case_month, res_state\n",
    "            ORDER BY\n",
    "                case_month, res_state;\n",
    "            \"\"\""
   ]
  },
  {
   "cell_type": "code",
   "execution_count": 3,
   "id": "c7f8a6d9",
   "metadata": {},
   "outputs": [],
   "source": [
    "# Create SQL Engine, Connection, and Cursor\n",
    "connection = sqlite3.connect('covid_large_dataset.db')\n",
    "cursor = connection.cursor()"
   ]
  },
  {
   "cell_type": "code",
   "execution_count": 8,
   "id": "2abcfb46",
   "metadata": {},
   "outputs": [],
   "source": [
    "df = pd.read_sql(sql=command1, con=connection)"
   ]
  },
  {
   "cell_type": "code",
   "execution_count": 9,
   "id": "424626c7",
   "metadata": {},
   "outputs": [
    {
     "data": {
      "text/html": [
       "<div>\n",
       "<style scoped>\n",
       "    .dataframe tbody tr th:only-of-type {\n",
       "        vertical-align: middle;\n",
       "    }\n",
       "\n",
       "    .dataframe tbody tr th {\n",
       "        vertical-align: top;\n",
       "    }\n",
       "\n",
       "    .dataframe thead th {\n",
       "        text-align: right;\n",
       "    }\n",
       "</style>\n",
       "<table border=\"1\" class=\"dataframe\">\n",
       "  <thead>\n",
       "    <tr style=\"text-align: right;\">\n",
       "      <th></th>\n",
       "      <th>case_month</th>\n",
       "      <th>res_state</th>\n",
       "      <th>state_total</th>\n",
       "    </tr>\n",
       "  </thead>\n",
       "  <tbody>\n",
       "    <tr>\n",
       "      <th>0</th>\n",
       "      <td>2020-01</td>\n",
       "      <td>AL</td>\n",
       "      <td>103</td>\n",
       "    </tr>\n",
       "    <tr>\n",
       "      <th>1</th>\n",
       "      <td>2020-01</td>\n",
       "      <td>AR</td>\n",
       "      <td>17</td>\n",
       "    </tr>\n",
       "    <tr>\n",
       "      <th>2</th>\n",
       "      <td>2020-01</td>\n",
       "      <td>AZ</td>\n",
       "      <td>63</td>\n",
       "    </tr>\n",
       "    <tr>\n",
       "      <th>3</th>\n",
       "      <td>2020-01</td>\n",
       "      <td>CA</td>\n",
       "      <td>389</td>\n",
       "    </tr>\n",
       "    <tr>\n",
       "      <th>4</th>\n",
       "      <td>2020-01</td>\n",
       "      <td>CO</td>\n",
       "      <td>85</td>\n",
       "    </tr>\n",
       "  </tbody>\n",
       "</table>\n",
       "</div>"
      ],
      "text/plain": [
       "  case_month res_state  state_total\n",
       "0    2020-01        AL          103\n",
       "1    2020-01        AR           17\n",
       "2    2020-01        AZ           63\n",
       "3    2020-01        CA          389\n",
       "4    2020-01        CO           85"
      ]
     },
     "execution_count": 9,
     "metadata": {},
     "output_type": "execute_result"
    }
   ],
   "source": [
    "df.head()"
   ]
  },
  {
   "cell_type": "code",
   "execution_count": 10,
   "id": "4dce5510",
   "metadata": {},
   "outputs": [
    {
     "name": "stdout",
     "output_type": "stream",
     "text": [
      "<class 'pandas.core.frame.DataFrame'>\n",
      "RangeIndex: 1459 entries, 0 to 1458\n",
      "Data columns (total 3 columns):\n",
      " #   Column       Non-Null Count  Dtype \n",
      "---  ------       --------------  ----- \n",
      " 0   case_month   1459 non-null   object\n",
      " 1   res_state    1459 non-null   object\n",
      " 2   state_total  1459 non-null   int64 \n",
      "dtypes: int64(1), object(2)\n",
      "memory usage: 34.3+ KB\n"
     ]
    }
   ],
   "source": [
    "df.info()"
   ]
  },
  {
   "cell_type": "code",
   "execution_count": 11,
   "id": "280718b9",
   "metadata": {},
   "outputs": [],
   "source": [
    "df.to_csv('covid-cases-by-date-and-state.csv')"
   ]
  },
  {
   "cell_type": "code",
   "execution_count": 13,
   "id": "d2bc252a",
   "metadata": {},
   "outputs": [],
   "source": [
    "dates = df['case_month'].value_counts()"
   ]
  },
  {
   "cell_type": "code",
   "execution_count": 14,
   "id": "db1520d6",
   "metadata": {},
   "outputs": [],
   "source": [
    "states = df['res_state'].value_counts()"
   ]
  },
  {
   "cell_type": "code",
   "execution_count": 18,
   "id": "30cfb89e",
   "metadata": {},
   "outputs": [
    {
     "data": {
      "text/plain": [
       "pandas.core.series.Series"
      ]
     },
     "execution_count": 18,
     "metadata": {},
     "output_type": "execute_result"
    }
   ],
   "source": [
    "type(dates)"
   ]
  },
  {
   "cell_type": "code",
   "execution_count": 23,
   "id": "85e16b4f",
   "metadata": {},
   "outputs": [],
   "source": [
    "dates.sort_index(inplace=True)"
   ]
  },
  {
   "cell_type": "code",
   "execution_count": 24,
   "id": "5196d636",
   "metadata": {},
   "outputs": [],
   "source": [
    "states.sort_index(inplace=True)"
   ]
  },
  {
   "cell_type": "code",
   "execution_count": 29,
   "id": "f998f236",
   "metadata": {},
   "outputs": [],
   "source": [
    "dates_list = list(dates.index)"
   ]
  },
  {
   "cell_type": "code",
   "execution_count": 30,
   "id": "91a8d43e",
   "metadata": {},
   "outputs": [],
   "source": [
    "states_list = list(states.index)          \n",
    "    "
   ]
  },
  {
   "cell_type": "code",
   "execution_count": null,
   "id": "276874a9",
   "metadata": {},
   "outputs": [],
   "source": []
  },
  {
   "cell_type": "code",
   "execution_count": 76,
   "id": "11a574f3",
   "metadata": {},
   "outputs": [],
   "source": [
    "\n",
    "df2 = pd.DataFrame(index=states_list, columns=dates_list)\n",
    "\n",
    "for index, row in df.iterrows():\n",
    "    state = row[\"res_state\"]\n",
    "    date = row[\"case_month\"]\n",
    "    total = row[\"state_total\"]\n",
    "    df2[date][state] = total"
   ]
  },
  {
   "cell_type": "code",
   "execution_count": 74,
   "id": "66a7268a",
   "metadata": {},
   "outputs": [],
   "source": [
    "df2[\"2020-02\"][\"AL\"] = 50"
   ]
  },
  {
   "cell_type": "code",
   "execution_count": 77,
   "id": "5d11d65d",
   "metadata": {},
   "outputs": [
    {
     "data": {
      "text/html": [
       "<div>\n",
       "<style scoped>\n",
       "    .dataframe tbody tr th:only-of-type {\n",
       "        vertical-align: middle;\n",
       "    }\n",
       "\n",
       "    .dataframe tbody tr th {\n",
       "        vertical-align: top;\n",
       "    }\n",
       "\n",
       "    .dataframe thead th {\n",
       "        text-align: right;\n",
       "    }\n",
       "</style>\n",
       "<table border=\"1\" class=\"dataframe\">\n",
       "  <thead>\n",
       "    <tr style=\"text-align: right;\">\n",
       "      <th></th>\n",
       "      <th>2020-01</th>\n",
       "      <th>2020-02</th>\n",
       "      <th>2020-03</th>\n",
       "      <th>2020-04</th>\n",
       "      <th>2020-05</th>\n",
       "      <th>2020-06</th>\n",
       "      <th>2020-07</th>\n",
       "      <th>2020-08</th>\n",
       "      <th>2020-09</th>\n",
       "      <th>2020-10</th>\n",
       "      <th>...</th>\n",
       "      <th>2021-07</th>\n",
       "      <th>2021-08</th>\n",
       "      <th>2021-09</th>\n",
       "      <th>2021-10</th>\n",
       "      <th>2021-11</th>\n",
       "      <th>2021-12</th>\n",
       "      <th>2022-01</th>\n",
       "      <th>2022-02</th>\n",
       "      <th>2022-03</th>\n",
       "      <th>2022-04</th>\n",
       "    </tr>\n",
       "  </thead>\n",
       "  <tbody>\n",
       "    <tr>\n",
       "      <th>AK</th>\n",
       "      <td>NaN</td>\n",
       "      <td>NaN</td>\n",
       "      <td>239</td>\n",
       "      <td>137</td>\n",
       "      <td>146</td>\n",
       "      <td>614</td>\n",
       "      <td>2293</td>\n",
       "      <td>2104</td>\n",
       "      <td>3068</td>\n",
       "      <td>9364</td>\n",
       "      <td>...</td>\n",
       "      <td>4894</td>\n",
       "      <td>15419</td>\n",
       "      <td>24202</td>\n",
       "      <td>21036</td>\n",
       "      <td>11623</td>\n",
       "      <td>8073</td>\n",
       "      <td>58396</td>\n",
       "      <td>19442</td>\n",
       "      <td>7902</td>\n",
       "      <td>3166</td>\n",
       "    </tr>\n",
       "    <tr>\n",
       "      <th>AL</th>\n",
       "      <td>103</td>\n",
       "      <td>59</td>\n",
       "      <td>2677</td>\n",
       "      <td>6208</td>\n",
       "      <td>11427</td>\n",
       "      <td>21971</td>\n",
       "      <td>49743</td>\n",
       "      <td>37556</td>\n",
       "      <td>27988</td>\n",
       "      <td>37943</td>\n",
       "      <td>...</td>\n",
       "      <td>37925</td>\n",
       "      <td>121030</td>\n",
       "      <td>89555</td>\n",
       "      <td>31418</td>\n",
       "      <td>15298</td>\n",
       "      <td>63126</td>\n",
       "      <td>319806</td>\n",
       "      <td>53397</td>\n",
       "      <td>13493</td>\n",
       "      <td>2845</td>\n",
       "    </tr>\n",
       "    <tr>\n",
       "      <th>AR</th>\n",
       "      <td>17</td>\n",
       "      <td>18</td>\n",
       "      <td>1156</td>\n",
       "      <td>2742</td>\n",
       "      <td>5354</td>\n",
       "      <td>16458</td>\n",
       "      <td>21307</td>\n",
       "      <td>18628</td>\n",
       "      <td>21805</td>\n",
       "      <td>28965</td>\n",
       "      <td>...</td>\n",
       "      <td>41636</td>\n",
       "      <td>68418</td>\n",
       "      <td>37395</td>\n",
       "      <td>15696</td>\n",
       "      <td>17457</td>\n",
       "      <td>46391</td>\n",
       "      <td>218663</td>\n",
       "      <td>25396</td>\n",
       "      <td>4102</td>\n",
       "      <td>1249</td>\n",
       "    </tr>\n",
       "    <tr>\n",
       "      <th>AZ</th>\n",
       "      <td>63</td>\n",
       "      <td>57</td>\n",
       "      <td>2679</td>\n",
       "      <td>7243</td>\n",
       "      <td>16190</td>\n",
       "      <td>71744</td>\n",
       "      <td>86892</td>\n",
       "      <td>22845</td>\n",
       "      <td>16826</td>\n",
       "      <td>33418</td>\n",
       "      <td>...</td>\n",
       "      <td>39168</td>\n",
       "      <td>91751</td>\n",
       "      <td>77778</td>\n",
       "      <td>75752</td>\n",
       "      <td>110413</td>\n",
       "      <td>130755</td>\n",
       "      <td>497079</td>\n",
       "      <td>74776</td>\n",
       "      <td>17380</td>\n",
       "      <td>6436</td>\n",
       "    </tr>\n",
       "    <tr>\n",
       "      <th>CA</th>\n",
       "      <td>389</td>\n",
       "      <td>489</td>\n",
       "      <td>19293</td>\n",
       "      <td>46525</td>\n",
       "      <td>71232</td>\n",
       "      <td>174261</td>\n",
       "      <td>282735</td>\n",
       "      <td>151891</td>\n",
       "      <td>101378</td>\n",
       "      <td>124944</td>\n",
       "      <td>...</td>\n",
       "      <td>203821</td>\n",
       "      <td>415072</td>\n",
       "      <td>252182</td>\n",
       "      <td>179665</td>\n",
       "      <td>165165</td>\n",
       "      <td>775039</td>\n",
       "      <td>2788757</td>\n",
       "      <td>353757</td>\n",
       "      <td>86106</td>\n",
       "      <td>51474</td>\n",
       "    </tr>\n",
       "    <tr>\n",
       "      <th>CO</th>\n",
       "      <td>85</td>\n",
       "      <td>98</td>\n",
       "      <td>6793</td>\n",
       "      <td>12128</td>\n",
       "      <td>9287</td>\n",
       "      <td>7091</td>\n",
       "      <td>14650</td>\n",
       "      <td>9801</td>\n",
       "      <td>14372</td>\n",
       "      <td>43317</td>\n",
       "      <td>...</td>\n",
       "      <td>19182</td>\n",
       "      <td>42400</td>\n",
       "      <td>55573</td>\n",
       "      <td>74866</td>\n",
       "      <td>86277</td>\n",
       "      <td>107273</td>\n",
       "      <td>328452</td>\n",
       "      <td>53974</td>\n",
       "      <td>29089</td>\n",
       "      <td>18544</td>\n",
       "    </tr>\n",
       "    <tr>\n",
       "      <th>CT</th>\n",
       "      <td>17</td>\n",
       "      <td>36</td>\n",
       "      <td>3766</td>\n",
       "      <td>9257</td>\n",
       "      <td>3629</td>\n",
       "      <td>29767</td>\n",
       "      <td>4007</td>\n",
       "      <td>3505</td>\n",
       "      <td>4564</td>\n",
       "      <td>16341</td>\n",
       "      <td>...</td>\n",
       "      <td>11613</td>\n",
       "      <td>16520</td>\n",
       "      <td>19748</td>\n",
       "      <td>68</td>\n",
       "      <td>9905</td>\n",
       "      <td>154</td>\n",
       "      <td>454</td>\n",
       "      <td>27702</td>\n",
       "      <td>33940</td>\n",
       "      <td>13</td>\n",
       "    </tr>\n",
       "    <tr>\n",
       "      <th>DC</th>\n",
       "      <td>NaN</td>\n",
       "      <td>36</td>\n",
       "      <td>1232</td>\n",
       "      <td>3305</td>\n",
       "      <td>2175</td>\n",
       "      <td>566</td>\n",
       "      <td>4361</td>\n",
       "      <td>712</td>\n",
       "      <td>633</td>\n",
       "      <td>798</td>\n",
       "      <td>...</td>\n",
       "      <td>1125</td>\n",
       "      <td>4915</td>\n",
       "      <td>5730</td>\n",
       "      <td>2942</td>\n",
       "      <td>2571</td>\n",
       "      <td>6263</td>\n",
       "      <td>55741</td>\n",
       "      <td>4871</td>\n",
       "      <td>1868</td>\n",
       "      <td>2458</td>\n",
       "    </tr>\n",
       "    <tr>\n",
       "      <th>DE</th>\n",
       "      <td>NaN</td>\n",
       "      <td>NaN</td>\n",
       "      <td>300</td>\n",
       "      <td>4242</td>\n",
       "      <td>4384</td>\n",
       "      <td>1929</td>\n",
       "      <td>3134</td>\n",
       "      <td>2397</td>\n",
       "      <td>2921</td>\n",
       "      <td>4272</td>\n",
       "      <td>...</td>\n",
       "      <td>1723</td>\n",
       "      <td>8550</td>\n",
       "      <td>13325</td>\n",
       "      <td>10494</td>\n",
       "      <td>9228</td>\n",
       "      <td>29794</td>\n",
       "      <td>63792</td>\n",
       "      <td>7991</td>\n",
       "      <td>2854</td>\n",
       "      <td>2077</td>\n",
       "    </tr>\n",
       "    <tr>\n",
       "      <th>FL</th>\n",
       "      <td>132</td>\n",
       "      <td>290</td>\n",
       "      <td>16081</td>\n",
       "      <td>20817</td>\n",
       "      <td>21705</td>\n",
       "      <td>81505</td>\n",
       "      <td>135395</td>\n",
       "      <td>149549</td>\n",
       "      <td>111662</td>\n",
       "      <td>129422</td>\n",
       "      <td>...</td>\n",
       "      <td>162415</td>\n",
       "      <td>323131</td>\n",
       "      <td>293037</td>\n",
       "      <td>184574</td>\n",
       "      <td>47145</td>\n",
       "      <td>107853</td>\n",
       "      <td>525740</td>\n",
       "      <td>380416</td>\n",
       "      <td>146759</td>\n",
       "      <td>22975</td>\n",
       "    </tr>\n",
       "  </tbody>\n",
       "</table>\n",
       "<p>10 rows × 28 columns</p>\n",
       "</div>"
      ],
      "text/plain": [
       "   2020-01 2020-02 2020-03 2020-04 2020-05 2020-06 2020-07 2020-08 2020-09  \\\n",
       "AK     NaN     NaN     239     137     146     614    2293    2104    3068   \n",
       "AL     103      59    2677    6208   11427   21971   49743   37556   27988   \n",
       "AR      17      18    1156    2742    5354   16458   21307   18628   21805   \n",
       "AZ      63      57    2679    7243   16190   71744   86892   22845   16826   \n",
       "CA     389     489   19293   46525   71232  174261  282735  151891  101378   \n",
       "CO      85      98    6793   12128    9287    7091   14650    9801   14372   \n",
       "CT      17      36    3766    9257    3629   29767    4007    3505    4564   \n",
       "DC     NaN      36    1232    3305    2175     566    4361     712     633   \n",
       "DE     NaN     NaN     300    4242    4384    1929    3134    2397    2921   \n",
       "FL     132     290   16081   20817   21705   81505  135395  149549  111662   \n",
       "\n",
       "   2020-10  ... 2021-07 2021-08 2021-09 2021-10 2021-11 2021-12  2022-01  \\\n",
       "AK    9364  ...    4894   15419   24202   21036   11623    8073    58396   \n",
       "AL   37943  ...   37925  121030   89555   31418   15298   63126   319806   \n",
       "AR   28965  ...   41636   68418   37395   15696   17457   46391   218663   \n",
       "AZ   33418  ...   39168   91751   77778   75752  110413  130755   497079   \n",
       "CA  124944  ...  203821  415072  252182  179665  165165  775039  2788757   \n",
       "CO   43317  ...   19182   42400   55573   74866   86277  107273   328452   \n",
       "CT   16341  ...   11613   16520   19748      68    9905     154      454   \n",
       "DC     798  ...    1125    4915    5730    2942    2571    6263    55741   \n",
       "DE    4272  ...    1723    8550   13325   10494    9228   29794    63792   \n",
       "FL  129422  ...  162415  323131  293037  184574   47145  107853   525740   \n",
       "\n",
       "   2022-02 2022-03 2022-04  \n",
       "AK   19442    7902    3166  \n",
       "AL   53397   13493    2845  \n",
       "AR   25396    4102    1249  \n",
       "AZ   74776   17380    6436  \n",
       "CA  353757   86106   51474  \n",
       "CO   53974   29089   18544  \n",
       "CT   27702   33940      13  \n",
       "DC    4871    1868    2458  \n",
       "DE    7991    2854    2077  \n",
       "FL  380416  146759   22975  \n",
       "\n",
       "[10 rows x 28 columns]"
      ]
     },
     "execution_count": 77,
     "metadata": {},
     "output_type": "execute_result"
    }
   ],
   "source": [
    "df2.head(10)"
   ]
  },
  {
   "cell_type": "code",
   "execution_count": 79,
   "id": "ae563b8e",
   "metadata": {},
   "outputs": [],
   "source": [
    "df.to_csv('final.csv')"
   ]
  },
  {
   "cell_type": "code",
   "execution_count": 43,
   "id": "3897f74d",
   "metadata": {},
   "outputs": [
    {
     "data": {
      "text/html": [
       "<div>\n",
       "<style scoped>\n",
       "    .dataframe tbody tr th:only-of-type {\n",
       "        vertical-align: middle;\n",
       "    }\n",
       "\n",
       "    .dataframe tbody tr th {\n",
       "        vertical-align: top;\n",
       "    }\n",
       "\n",
       "    .dataframe thead th {\n",
       "        text-align: right;\n",
       "    }\n",
       "</style>\n",
       "<table border=\"1\" class=\"dataframe\">\n",
       "  <thead>\n",
       "    <tr style=\"text-align: right;\">\n",
       "      <th></th>\n",
       "      <th>2020-01</th>\n",
       "      <th>2020-02</th>\n",
       "      <th>2020-03</th>\n",
       "      <th>2020-04</th>\n",
       "      <th>2020-05</th>\n",
       "      <th>2020-06</th>\n",
       "      <th>2020-07</th>\n",
       "      <th>2020-08</th>\n",
       "      <th>2020-09</th>\n",
       "      <th>2020-10</th>\n",
       "      <th>...</th>\n",
       "      <th>2021-07</th>\n",
       "      <th>2021-08</th>\n",
       "      <th>2021-09</th>\n",
       "      <th>2021-10</th>\n",
       "      <th>2021-11</th>\n",
       "      <th>2021-12</th>\n",
       "      <th>2022-01</th>\n",
       "      <th>2022-02</th>\n",
       "      <th>2022-03</th>\n",
       "      <th>2022-04</th>\n",
       "    </tr>\n",
       "  </thead>\n",
       "  <tbody>\n",
       "    <tr>\n",
       "      <th>0</th>\n",
       "      <td>103</td>\n",
       "      <td>59</td>\n",
       "      <td>239</td>\n",
       "      <td>137</td>\n",
       "      <td>146</td>\n",
       "      <td>614</td>\n",
       "      <td>2293</td>\n",
       "      <td>2104</td>\n",
       "      <td>3068</td>\n",
       "      <td>9364</td>\n",
       "      <td>...</td>\n",
       "      <td>4894</td>\n",
       "      <td>15419</td>\n",
       "      <td>24202</td>\n",
       "      <td>21036</td>\n",
       "      <td>11623</td>\n",
       "      <td>8073</td>\n",
       "      <td>58396</td>\n",
       "      <td>19442</td>\n",
       "      <td>7902</td>\n",
       "      <td>3166</td>\n",
       "    </tr>\n",
       "    <tr>\n",
       "      <th>1</th>\n",
       "      <td>17</td>\n",
       "      <td>18</td>\n",
       "      <td>2677</td>\n",
       "      <td>6208</td>\n",
       "      <td>11427</td>\n",
       "      <td>21971</td>\n",
       "      <td>49743</td>\n",
       "      <td>37556</td>\n",
       "      <td>27988</td>\n",
       "      <td>37943</td>\n",
       "      <td>...</td>\n",
       "      <td>37925</td>\n",
       "      <td>121030</td>\n",
       "      <td>89555</td>\n",
       "      <td>31418</td>\n",
       "      <td>15298</td>\n",
       "      <td>63126</td>\n",
       "      <td>319806</td>\n",
       "      <td>53397</td>\n",
       "      <td>13493</td>\n",
       "      <td>2845</td>\n",
       "    </tr>\n",
       "    <tr>\n",
       "      <th>2</th>\n",
       "      <td>63</td>\n",
       "      <td>57</td>\n",
       "      <td>1156</td>\n",
       "      <td>2742</td>\n",
       "      <td>5354</td>\n",
       "      <td>16458</td>\n",
       "      <td>21307</td>\n",
       "      <td>18628</td>\n",
       "      <td>21805</td>\n",
       "      <td>28965</td>\n",
       "      <td>...</td>\n",
       "      <td>41636</td>\n",
       "      <td>68418</td>\n",
       "      <td>37395</td>\n",
       "      <td>15696</td>\n",
       "      <td>17457</td>\n",
       "      <td>46391</td>\n",
       "      <td>218663</td>\n",
       "      <td>25396</td>\n",
       "      <td>4102</td>\n",
       "      <td>1249</td>\n",
       "    </tr>\n",
       "    <tr>\n",
       "      <th>3</th>\n",
       "      <td>389</td>\n",
       "      <td>489</td>\n",
       "      <td>2679</td>\n",
       "      <td>7243</td>\n",
       "      <td>16190</td>\n",
       "      <td>71744</td>\n",
       "      <td>86892</td>\n",
       "      <td>22845</td>\n",
       "      <td>16826</td>\n",
       "      <td>33418</td>\n",
       "      <td>...</td>\n",
       "      <td>39168</td>\n",
       "      <td>91751</td>\n",
       "      <td>77778</td>\n",
       "      <td>75752</td>\n",
       "      <td>110413</td>\n",
       "      <td>130755</td>\n",
       "      <td>497079</td>\n",
       "      <td>74776</td>\n",
       "      <td>17380</td>\n",
       "      <td>6436</td>\n",
       "    </tr>\n",
       "    <tr>\n",
       "      <th>4</th>\n",
       "      <td>85</td>\n",
       "      <td>98</td>\n",
       "      <td>19293</td>\n",
       "      <td>46525</td>\n",
       "      <td>71232</td>\n",
       "      <td>174261</td>\n",
       "      <td>282735</td>\n",
       "      <td>151891</td>\n",
       "      <td>101378</td>\n",
       "      <td>124944</td>\n",
       "      <td>...</td>\n",
       "      <td>203821</td>\n",
       "      <td>415072</td>\n",
       "      <td>252182</td>\n",
       "      <td>179665</td>\n",
       "      <td>165165</td>\n",
       "      <td>775039</td>\n",
       "      <td>2788757</td>\n",
       "      <td>353757</td>\n",
       "      <td>86106</td>\n",
       "      <td>51474</td>\n",
       "    </tr>\n",
       "  </tbody>\n",
       "</table>\n",
       "<p>5 rows × 28 columns</p>\n",
       "</div>"
      ],
      "text/plain": [
       "   2020-01  2020-02  2020-03  2020-04  2020-05  2020-06  2020-07  2020-08  \\\n",
       "0      103       59      239      137      146      614     2293     2104   \n",
       "1       17       18     2677     6208    11427    21971    49743    37556   \n",
       "2       63       57     1156     2742     5354    16458    21307    18628   \n",
       "3      389      489     2679     7243    16190    71744    86892    22845   \n",
       "4       85       98    19293    46525    71232   174261   282735   151891   \n",
       "\n",
       "   2020-09  2020-10  ...  2021-07  2021-08  2021-09  2021-10  2021-11  \\\n",
       "0     3068     9364  ...     4894    15419    24202    21036    11623   \n",
       "1    27988    37943  ...    37925   121030    89555    31418    15298   \n",
       "2    21805    28965  ...    41636    68418    37395    15696    17457   \n",
       "3    16826    33418  ...    39168    91751    77778    75752   110413   \n",
       "4   101378   124944  ...   203821   415072   252182   179665   165165   \n",
       "\n",
       "   2021-12  2022-01  2022-02  2022-03  2022-04  \n",
       "0     8073    58396    19442     7902     3166  \n",
       "1    63126   319806    53397    13493     2845  \n",
       "2    46391   218663    25396     4102     1249  \n",
       "3   130755   497079    74776    17380     6436  \n",
       "4   775039  2788757   353757    86106    51474  \n",
       "\n",
       "[5 rows x 28 columns]"
      ]
     },
     "execution_count": 43,
     "metadata": {},
     "output_type": "execute_result"
    }
   ],
   "source": [
    "df2.head()"
   ]
  },
  {
   "cell_type": "code",
   "execution_count": 44,
   "id": "8430d4d6",
   "metadata": {},
   "outputs": [],
   "source": [
    "df2.to_csv(\"draft-table-1.csv\")"
   ]
  },
  {
   "cell_type": "code",
   "execution_count": 48,
   "id": "5b82d8d7",
   "metadata": {},
   "outputs": [
    {
     "data": {
      "text/plain": [
       "54"
      ]
     },
     "execution_count": 48,
     "metadata": {},
     "output_type": "execute_result"
    }
   ],
   "source": [
    "len(states_list)"
   ]
  },
  {
   "cell_type": "code",
   "execution_count": 49,
   "id": "f4d6c91c",
   "metadata": {},
   "outputs": [],
   "source": [
    "df3 = pd.DataFrame()\n",
    "df3[\"STATES\"] = states_list"
   ]
  },
  {
   "cell_type": "code",
   "execution_count": 50,
   "id": "ea522924",
   "metadata": {},
   "outputs": [
    {
     "data": {
      "text/html": [
       "<div>\n",
       "<style scoped>\n",
       "    .dataframe tbody tr th:only-of-type {\n",
       "        vertical-align: middle;\n",
       "    }\n",
       "\n",
       "    .dataframe tbody tr th {\n",
       "        vertical-align: top;\n",
       "    }\n",
       "\n",
       "    .dataframe thead th {\n",
       "        text-align: right;\n",
       "    }\n",
       "</style>\n",
       "<table border=\"1\" class=\"dataframe\">\n",
       "  <thead>\n",
       "    <tr style=\"text-align: right;\">\n",
       "      <th></th>\n",
       "      <th>STATES</th>\n",
       "    </tr>\n",
       "  </thead>\n",
       "  <tbody>\n",
       "    <tr>\n",
       "      <th>0</th>\n",
       "      <td>AK</td>\n",
       "    </tr>\n",
       "    <tr>\n",
       "      <th>1</th>\n",
       "      <td>AL</td>\n",
       "    </tr>\n",
       "    <tr>\n",
       "      <th>2</th>\n",
       "      <td>AR</td>\n",
       "    </tr>\n",
       "    <tr>\n",
       "      <th>3</th>\n",
       "      <td>AZ</td>\n",
       "    </tr>\n",
       "    <tr>\n",
       "      <th>4</th>\n",
       "      <td>CA</td>\n",
       "    </tr>\n",
       "  </tbody>\n",
       "</table>\n",
       "</div>"
      ],
      "text/plain": [
       "  STATES\n",
       "0     AK\n",
       "1     AL\n",
       "2     AR\n",
       "3     AZ\n",
       "4     CA"
      ]
     },
     "execution_count": 50,
     "metadata": {},
     "output_type": "execute_result"
    }
   ],
   "source": [
    "df3.head()"
   ]
  },
  {
   "cell_type": "code",
   "execution_count": null,
   "id": "fbfbe646",
   "metadata": {},
   "outputs": [],
   "source": []
  }
 ],
 "metadata": {
  "kernelspec": {
   "display_name": "Python 3 (ipykernel)",
   "language": "python",
   "name": "python3"
  },
  "language_info": {
   "codemirror_mode": {
    "name": "ipython",
    "version": 3
   },
   "file_extension": ".py",
   "mimetype": "text/x-python",
   "name": "python",
   "nbconvert_exporter": "python",
   "pygments_lexer": "ipython3",
   "version": "3.9.12"
  }
 },
 "nbformat": 4,
 "nbformat_minor": 5
}
