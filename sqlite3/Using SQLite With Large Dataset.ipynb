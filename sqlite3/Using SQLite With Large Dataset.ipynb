{
 "cells": [
  {
   "cell_type": "markdown",
   "id": "20a4a47e",
   "metadata": {},
   "source": [
    "<h2>Using SQLite With Large Dataset</h2>"
   ]
  },
  {
   "cell_type": "code",
   "execution_count": null,
   "id": "cfc96441",
   "metadata": {},
   "outputs": [],
   "source": [
    "import sqlite3\n",
    "import numpy as np\n",
    "import pandas as pd"
   ]
  },
  {
   "cell_type": "code",
   "execution_count": null,
   "id": "9ab8a7de",
   "metadata": {},
   "outputs": [],
   "source": [
    "# define connection and cursor\n",
    "\n",
    "connection = sqlite3.connect('covid_dataset.db')\n",
    "\n",
    "cursor = connection.cursor()"
   ]
  },
  {
   "cell_type": "code",
   "execution_count": null,
   "id": "fbf55138",
   "metadata": {},
   "outputs": [],
   "source": [
    "command1 = \"\"\"CREATE TABLE IF NOT EXISTS covid_data(id INTEGER PRIMARY KEY, case_month TEXT, res_state TEXT, state_fips_code TEXT, res_county TEXT, county_fips_code TEXT, age_group TEXT, sex TEXT, race TEXT, ethnicity TEXT, case_positive_specimen_interval INTEGER, case_onset_interval INTEGER, process TEXT, exposure_yn TEXT, current_status TEXT, symptom_status TEXT, hosp_yn TEXT, icu_yn TEXT, death_yn TEXT, underlying_conditions_yn TEXT)\"\"\"\n",
    "\n",
    "cursor.execute(command1)"
   ]
  },
  {
   "cell_type": "code",
   "execution_count": null,
   "id": "04bddfae",
   "metadata": {},
   "outputs": [],
   "source": [
    "connection.commit()"
   ]
  },
  {
   "cell_type": "code",
   "execution_count": null,
   "id": "b522fe3e",
   "metadata": {},
   "outputs": [],
   "source": [
    "df = pd.read_csv('four-parts_data_part_1.csv', low_memory=False)\n",
    "#dask_df = dd.read_csv('COVID-19_Case_Surveillance_Public_Use_Data_with_Geography.csv')"
   ]
  },
  {
   "cell_type": "code",
   "execution_count": null,
   "id": "17a98c62",
   "metadata": {},
   "outputs": [],
   "source": [
    "df.info()"
   ]
  },
  {
   "cell_type": "code",
   "execution_count": null,
   "id": "88e6af7d",
   "metadata": {},
   "outputs": [],
   "source": [
    "df.to_sql('covid_data', connection, if_exists='append', index_label='id')"
   ]
  },
  {
   "cell_type": "code",
   "execution_count": null,
   "id": "8201048c",
   "metadata": {},
   "outputs": [],
   "source": [
    "connection.commit()"
   ]
  },
  {
   "cell_type": "code",
   "execution_count": null,
   "id": "40ad5698",
   "metadata": {},
   "outputs": [],
   "source": [
    "lst = list(range(20000000,40000000))\n",
    "newIndex = pd.Series(lst)"
   ]
  },
  {
   "cell_type": "code",
   "execution_count": null,
   "id": "799dd8ef",
   "metadata": {},
   "outputs": [],
   "source": [
    "#df.head()\n",
    "#df.set_index(lst, inplace=True)"
   ]
  },
  {
   "cell_type": "code",
   "execution_count": null,
   "id": "051e28ff",
   "metadata": {},
   "outputs": [],
   "source": [
    "newIndex.head()"
   ]
  },
  {
   "cell_type": "code",
   "execution_count": null,
   "id": "28c36355",
   "metadata": {},
   "outputs": [],
   "source": [
    "df = pd.read_csv('four-parts_data_part_2.csv', low_memory=False)"
   ]
  },
  {
   "cell_type": "code",
   "execution_count": null,
   "id": "215a713c",
   "metadata": {},
   "outputs": [],
   "source": [
    "df.info()"
   ]
  },
  {
   "cell_type": "code",
   "execution_count": null,
   "id": "62866a68",
   "metadata": {},
   "outputs": [],
   "source": [
    "df.index = range(20000000, 40000000)"
   ]
  },
  {
   "cell_type": "code",
   "execution_count": null,
   "id": "fa2c1df2",
   "metadata": {},
   "outputs": [],
   "source": [
    "df.to_sql('covid_data', connection, if_exists='append', index_label='id')"
   ]
  },
  {
   "cell_type": "code",
   "execution_count": null,
   "id": "41dba42c",
   "metadata": {},
   "outputs": [],
   "source": [
    "df = pd.read_csv('four-parts_data_part_3.csv', low_memory=False)"
   ]
  },
  {
   "cell_type": "code",
   "execution_count": null,
   "id": "eb245e13",
   "metadata": {},
   "outputs": [],
   "source": [
    "df.index = range(40000000, 60000000)\n",
    "df.info()"
   ]
  },
  {
   "cell_type": "code",
   "execution_count": null,
   "id": "7e6bc454",
   "metadata": {},
   "outputs": [],
   "source": [
    "df.to_sql('covid_data', connection, if_exists='append', index_label='id')"
   ]
  },
  {
   "cell_type": "code",
   "execution_count": null,
   "id": "f4f93433",
   "metadata": {},
   "outputs": [],
   "source": [
    "connection.commit()"
   ]
  },
  {
   "cell_type": "code",
   "execution_count": null,
   "id": "4b638cb6",
   "metadata": {},
   "outputs": [],
   "source": [
    "df = pd.read_csv('four-parts_data_part_4.csv', low_memory=False)"
   ]
  },
  {
   "cell_type": "code",
   "execution_count": null,
   "id": "48d25393",
   "metadata": {},
   "outputs": [],
   "source": [
    "df.info()"
   ]
  },
  {
   "cell_type": "code",
   "execution_count": null,
   "id": "f10e3ca3",
   "metadata": {},
   "outputs": [],
   "source": [
    "df.index = range(60000000, (60000000+9664983))"
   ]
  },
  {
   "cell_type": "code",
   "execution_count": null,
   "id": "c4f2f25b",
   "metadata": {},
   "outputs": [],
   "source": [
    "df.to_sql('covid_data', connection, if_exists='append', index_label='id')"
   ]
  },
  {
   "cell_type": "code",
   "execution_count": null,
   "id": "cf14f5d8",
   "metadata": {},
   "outputs": [],
   "source": [
    "connection.commit()\n",
    "connection.close()"
   ]
  },
  {
   "cell_type": "code",
   "execution_count": null,
   "id": "bedaec9a",
   "metadata": {},
   "outputs": [],
   "source": []
  }
 ],
 "metadata": {
  "kernelspec": {
   "display_name": "Python 3 (ipykernel)",
   "language": "python",
   "name": "python3"
  },
  "language_info": {
   "codemirror_mode": {
    "name": "ipython",
    "version": 3
   },
   "file_extension": ".py",
   "mimetype": "text/x-python",
   "name": "python",
   "nbconvert_exporter": "python",
   "pygments_lexer": "ipython3",
   "version": "3.9.12"
  }
 },
 "nbformat": 4,
 "nbformat_minor": 5
}
