{
 "cells": [
  {
   "cell_type": "markdown",
   "id": "7c453fda",
   "metadata": {},
   "source": [
    "<h2>COVID-19 Data - Data Cleaning with SQL</h2>"
   ]
  },
  {
   "cell_type": "code",
   "execution_count": null,
   "id": "f7199c8d",
   "metadata": {},
   "outputs": [],
   "source": [
    "import sqlite3\n",
    "import numpy as np\n",
    "import pandas as pd"
   ]
  },
  {
   "cell_type": "code",
   "execution_count": null,
   "id": "e3e9f217",
   "metadata": {},
   "outputs": [],
   "source": [
    "# Create SQL Engine, Connection, and Cursor\n",
    "# and connect to database file\n",
    "connection = sqlite3.connect('covid_large_dataset.db')\n",
    "cursor = connection.cursor()"
   ]
  },
  {
   "cell_type": "code",
   "execution_count": null,
   "id": "9138a22c",
   "metadata": {},
   "outputs": [],
   "source": [
    "# Query data from sqlite3 database for year 2020\n",
    "command1 = \"\"\"SELECT id,\n",
    "       case_month,\n",
    "       res_state,\n",
    "       state_fips_code,\n",
    "       age_group,\n",
    "       sex,\n",
    "       race,\n",
    "       ethnicity,\n",
    "       process,\n",
    "       exposure_yn,\n",
    "       current_status,\n",
    "       symptom_status,\n",
    "       hosp_yn,\n",
    "       icu_yn,\n",
    "       death_yn,\n",
    "       underlying_conditions_yn\n",
    "  FROM covid_data\n",
    " WHERE current_status = 'Laboratory-confirmed case'\n",
    "   AND case_month LIKE '%2020%';\"\"\""
   ]
  },
  {
   "cell_type": "code",
   "execution_count": null,
   "id": "85f46f28",
   "metadata": {},
   "outputs": [],
   "source": [
    "# Import filter data from SQL to DataFrame\n",
    "# Execute command and read into DataFrame\n",
    "df = pd.read_sql(sql=command1, con=connection, index_col=\"id\")"
   ]
  },
  {
   "cell_type": "code",
   "execution_count": null,
   "id": "d7a81645",
   "metadata": {},
   "outputs": [],
   "source": [
    "df.info()"
   ]
  },
  {
   "cell_type": "code",
   "execution_count": null,
   "id": "ea73fee3",
   "metadata": {},
   "outputs": [],
   "source": [
    "df.head(10)"
   ]
  },
  {
   "cell_type": "code",
   "execution_count": null,
   "id": "3807b978",
   "metadata": {},
   "outputs": [],
   "source": [
    "df['symptom_status'].value_counts()"
   ]
  },
  {
   "cell_type": "code",
   "execution_count": null,
   "id": "6d8e9021",
   "metadata": {},
   "outputs": [],
   "source": [
    "383581 / (8524997 + 383581)"
   ]
  },
  {
   "cell_type": "code",
   "execution_count": null,
   "id": "583b9ac4",
   "metadata": {},
   "outputs": [],
   "source": [
    "# Query data from sqlite3 database for year 2021\n",
    "command1 = \"\"\"SELECT id,\n",
    "       case_month,\n",
    "       current_status,\n",
    "       symptom_status\n",
    "  FROM covid_data\n",
    " WHERE current_status = 'Laboratory-confirmed case'\n",
    "   AND case_month LIKE '%2021%';\"\"\""
   ]
  },
  {
   "cell_type": "code",
   "execution_count": null,
   "id": "884ac8c9",
   "metadata": {},
   "outputs": [],
   "source": [
    "# Import filter data from SQL to DataFrame\n",
    "# Execute command and read into DataFrame\n",
    "df = pd.read_sql(sql=command1, con=connection, index_col=\"id\")"
   ]
  },
  {
   "cell_type": "code",
   "execution_count": null,
   "id": "1cca90aa",
   "metadata": {},
   "outputs": [],
   "source": [
    "df.info()"
   ]
  },
  {
   "cell_type": "code",
   "execution_count": null,
   "id": "bb947633",
   "metadata": {},
   "outputs": [],
   "source": [
    "df.head(10)"
   ]
  },
  {
   "cell_type": "code",
   "execution_count": null,
   "id": "ba5b8d94",
   "metadata": {},
   "outputs": [],
   "source": [
    "df['symptom_status'].value_counts()"
   ]
  },
  {
   "cell_type": "code",
   "execution_count": null,
   "id": "91f1d014",
   "metadata": {},
   "outputs": [],
   "source": [
    "361682 / (10447264 + 361682)"
   ]
  },
  {
   "cell_type": "code",
   "execution_count": null,
   "id": "2228a3d9",
   "metadata": {},
   "outputs": [],
   "source": []
  }
 ],
 "metadata": {
  "kernelspec": {
   "display_name": "Python 3 (ipykernel)",
   "language": "python",
   "name": "python3"
  },
  "language_info": {
   "codemirror_mode": {
    "name": "ipython",
    "version": 3
   },
   "file_extension": ".py",
   "mimetype": "text/x-python",
   "name": "python",
   "nbconvert_exporter": "python",
   "pygments_lexer": "ipython3",
   "version": "3.9.12"
  }
 },
 "nbformat": 4,
 "nbformat_minor": 5
}
